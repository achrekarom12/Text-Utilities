{
 "cells": [
  {
   "cell_type": "markdown",
   "id": "2fd623db",
   "metadata": {},
   "source": [
    "# Mini Project 2A"
   ]
  },
  {
   "cell_type": "markdown",
   "id": "1f20b990",
   "metadata": {},
   "source": [
    "<b>Project Title: </b>Text Utilities <br>\n",
    "<b>Domain: </b>Natural Language Processing"
   ]
  },
  {
   "cell_type": "markdown",
   "id": "4d20e134",
   "metadata": {},
   "source": [
    "<b>Team Members:</b>\n",
    "1. Mitali Rawat (Roll No. 21)\n",
    "2. Radha Vishwakarma (Roll No. 46)\n",
    "3. Om Achrekar (Roll No. 54)"
   ]
  },
  {
   "cell_type": "markdown",
   "id": "7b0f0982",
   "metadata": {},
   "source": [
    "<b>Problem Statement</b>: To create a web application that will help user to summerize, paraphrase the given text, and will also be able to correct the grammatical mistakes."
   ]
  },
  {
   "cell_type": "markdown",
   "id": "9bb8ae51",
   "metadata": {},
   "source": [
    "## Paraphrasing using T5 transformer:"
   ]
  },
  {
   "cell_type": "markdown",
   "id": "8a16e44c",
   "metadata": {},
   "source": [
    "#### Done By: Radha Vishwakarma"
   ]
  },
  {
   "cell_type": "code",
   "execution_count": 1,
   "id": "9616a974",
   "metadata": {},
   "outputs": [
    {
     "name": "stdout",
     "output_type": "stream",
     "text": [
      "Requirement already satisfied: sentence-splitter in /opt/anaconda3/envs/project/lib/python3.9/site-packages (1.4)\r\n",
      "Requirement already satisfied: regex>=2017.12.12 in /opt/anaconda3/envs/project/lib/python3.9/site-packages (from sentence-splitter) (2022.3.15)\r\n"
     ]
    }
   ],
   "source": [
    "!pip install sentence-splitter"
   ]
  },
  {
   "cell_type": "code",
   "execution_count": 2,
   "id": "22f258fb",
   "metadata": {
    "scrolled": true
   },
   "outputs": [
    {
     "name": "stdout",
     "output_type": "stream",
     "text": [
      "Requirement already satisfied: transformers in /opt/anaconda3/envs/project/lib/python3.9/site-packages (4.22.2)\n",
      "Requirement already satisfied: huggingface-hub<1.0,>=0.9.0 in /opt/anaconda3/envs/project/lib/python3.9/site-packages (from transformers) (0.10.0)\n",
      "Requirement already satisfied: numpy>=1.17 in /opt/anaconda3/envs/project/lib/python3.9/site-packages (from transformers) (1.21.5)\n",
      "Requirement already satisfied: requests in /opt/anaconda3/envs/project/lib/python3.9/site-packages (from transformers) (2.27.1)\n",
      "Requirement already satisfied: tqdm>=4.27 in /opt/anaconda3/envs/project/lib/python3.9/site-packages (from transformers) (4.64.0)\n",
      "Requirement already satisfied: regex!=2019.12.17 in /opt/anaconda3/envs/project/lib/python3.9/site-packages (from transformers) (2022.3.15)\n",
      "Requirement already satisfied: filelock in /opt/anaconda3/envs/project/lib/python3.9/site-packages (from transformers) (3.6.0)\n",
      "Requirement already satisfied: pyyaml>=5.1 in /opt/anaconda3/envs/project/lib/python3.9/site-packages (from transformers) (6.0)\n",
      "Requirement already satisfied: tokenizers!=0.11.3,<0.13,>=0.11.1 in /opt/anaconda3/envs/project/lib/python3.9/site-packages (from transformers) (0.12.1)\n",
      "Requirement already satisfied: packaging>=20.0 in /opt/anaconda3/envs/project/lib/python3.9/site-packages (from transformers) (21.3)\n",
      "Requirement already satisfied: typing-extensions>=3.7.4.3 in /opt/anaconda3/envs/project/lib/python3.9/site-packages (from huggingface-hub<1.0,>=0.9.0->transformers) (4.1.1)\n",
      "Requirement already satisfied: pyparsing!=3.0.5,>=2.0.2 in /opt/anaconda3/envs/project/lib/python3.9/site-packages (from packaging>=20.0->transformers) (3.0.4)\n",
      "Requirement already satisfied: charset-normalizer~=2.0.0 in /opt/anaconda3/envs/project/lib/python3.9/site-packages (from requests->transformers) (2.0.4)\n",
      "Requirement already satisfied: urllib3<1.27,>=1.21.1 in /opt/anaconda3/envs/project/lib/python3.9/site-packages (from requests->transformers) (1.26.9)\n",
      "Requirement already satisfied: certifi>=2017.4.17 in /opt/anaconda3/envs/project/lib/python3.9/site-packages (from requests->transformers) (2021.10.8)\n",
      "Requirement already satisfied: idna<4,>=2.5 in /opt/anaconda3/envs/project/lib/python3.9/site-packages (from requests->transformers) (3.3)\n"
     ]
    }
   ],
   "source": [
    "!pip install transformers"
   ]
  },
  {
   "cell_type": "code",
   "execution_count": 2,
   "id": "be78e04d",
   "metadata": {},
   "outputs": [
    {
     "name": "stdout",
     "output_type": "stream",
     "text": [
      "Requirement already satisfied: sentencePiece in /opt/anaconda3/envs/project/lib/python3.9/site-packages (0.1.97)\r\n"
     ]
    }
   ],
   "source": [
    "!pip install sentencePiece"
   ]
  },
  {
   "cell_type": "code",
   "execution_count": 3,
   "id": "e0b10ed9",
   "metadata": {},
   "outputs": [],
   "source": [
    "import torch\n",
    "from transformers import PegasusForConditionalGeneration, PegasusTokenizer\n",
    "model_name = 'tuner007/pegasus_paraphrase'\n",
    "torch_device = 'cuda' if torch.cuda.is_available() else 'cpu'\n",
    "tokenizer = PegasusTokenizer.from_pretrained(model_name)\n",
    "model = PegasusForConditionalGeneration.from_pretrained(model_name).to(torch_device)\n",
    "\n",
    "def get_response(input_text,num_return_sequences,num_beams):\n",
    "  batch = tokenizer([input_text],truncation=True,padding='longest',max_length=60, return_tensors=\"pt\").to(torch_device)\n",
    "  translated = model.generate(**batch,max_length=60,num_beams=num_beams, num_return_sequences=num_return_sequences, temperature=1.5)\n",
    "  tgt_text = tokenizer.batch_decode(translated, skip_special_tokens=True)\n",
    "  return tgt_text\n"
   ]
  },
  {
   "cell_type": "code",
   "execution_count": 4,
   "id": "007a87f3",
   "metadata": {},
   "outputs": [],
   "source": [
    "text = \"During the lunch Radha bought apples that were red but somewhat bitter to taste\""
   ]
  },
  {
   "cell_type": "code",
   "execution_count": 5,
   "id": "fa93842e",
   "metadata": {},
   "outputs": [
    {
     "data": {
      "text/plain": [
       "['During the lunch, she bought apples that were a bit bitter to eat.']"
      ]
     },
     "execution_count": 5,
     "metadata": {},
     "output_type": "execute_result"
    }
   ],
   "source": [
    "get_response(text, 1,3)"
   ]
  },
  {
   "cell_type": "code",
   "execution_count": 6,
   "id": "20833a3d",
   "metadata": {},
   "outputs": [
    {
     "data": {
      "text/plain": [
       "['75 pounds of food a day is what giraffes can consume.']"
      ]
     },
     "execution_count": 6,
     "metadata": {},
     "output_type": "execute_result"
    }
   ],
   "source": [
    "text = \"Giraffes like Acacia leaves and hay and they can consume 75 pounds of food a day.\"\n",
    "get_response(text, 1,3)"
   ]
  },
  {
   "cell_type": "code",
   "execution_count": 7,
   "id": "1164d73e",
   "metadata": {},
   "outputs": [
    {
     "data": {
      "text/plain": [
       "['The olive branch was used as a peace symbol in the past.']"
      ]
     },
     "execution_count": 7,
     "metadata": {},
     "output_type": "execute_result"
    }
   ],
   "source": [
    "text = \"In ancient times the olive branch was used as a peace symbol, as well as the dove.\"\n",
    "get_response(text, 1,3)"
   ]
  },
  {
   "cell_type": "code",
   "execution_count": 8,
   "id": "c30ceeff",
   "metadata": {},
   "outputs": [
    {
     "data": {
      "text/plain": [
       "['It is possible to kill salmonella and otherbacteria by pouring hydroxide peroxide on your wooden cutting board.']"
      ]
     },
     "execution_count": 8,
     "metadata": {},
     "output_type": "execute_result"
    }
   ],
   "source": [
    "text = \"Pouring hydroxide peroxide on your wooden cutting board will kill salmonella and other bacteria.\"\n",
    "get_response(text, 1,3)"
   ]
  },
  {
   "cell_type": "code",
   "execution_count": 9,
   "id": "9d19da1a",
   "metadata": {},
   "outputs": [
    {
     "data": {
      "text/plain": [
       "['The vomiting reflex can be triggered by nerve receptors that are shut down by ginger.']"
      ]
     },
     "execution_count": 9,
     "metadata": {},
     "output_type": "execute_result"
    }
   ],
   "source": [
    "text = \"Ginger shuts down nerve receptors that trigger the vomiting reflex.\"\n",
    "get_response(text, 1,3)"
   ]
  },
  {
   "cell_type": "code",
   "execution_count": 10,
   "id": "8a4ebc01",
   "metadata": {},
   "outputs": [
    {
     "data": {
      "text/plain": [
       "['A scroll compressor squeezes the refrigerant.']"
      ]
     },
     "execution_count": 10,
     "metadata": {},
     "output_type": "execute_result"
    }
   ],
   "source": [
    "text = \"A scroll compressor looks like a screw and squeezes the refrigerant.\"\n",
    "get_response(text, 1,3)"
   ]
  },
  {
   "cell_type": "code",
   "execution_count": 11,
   "id": "09739f40",
   "metadata": {},
   "outputs": [
    {
     "data": {
      "text/plain": [
       "['To make jazz hands, shake your hands and put your hands out.']"
      ]
     },
     "execution_count": 11,
     "metadata": {},
     "output_type": "execute_result"
    }
   ],
   "source": [
    "text = \"To make jazz hands, simply put your hands out, open your fingers and shake your hands.\"\n",
    "get_response(text, 1,3)"
   ]
  },
  {
   "cell_type": "code",
   "execution_count": 12,
   "id": "781cc386",
   "metadata": {},
   "outputs": [
    {
     "data": {
      "text/plain": [
       "['We are trying to get funding for a new business that we are launching.']"
      ]
     },
     "execution_count": 12,
     "metadata": {},
     "output_type": "execute_result"
    }
   ],
   "source": [
    "text = \"My partners and I are currently in the middle of getting funding for a new business we are launching.\"\n",
    "get_response(text, 1,3)"
   ]
  },
  {
   "cell_type": "code",
   "execution_count": 13,
   "id": "605979b9",
   "metadata": {},
   "outputs": [
    {
     "data": {
      "text/plain": [
       "['The product causes the breakdown of excess body fat.']"
      ]
     },
     "execution_count": 13,
     "metadata": {},
     "output_type": "execute_result"
    }
   ],
   "source": [
    "text = \"This product causes the breakdown of excess body fat and will help people shed pounds.\"\n",
    "get_response(text, 1,3)"
   ]
  },
  {
   "cell_type": "code",
   "execution_count": 14,
   "id": "7db36ee8",
   "metadata": {},
   "outputs": [
    {
     "data": {
      "text/plain": [
       "['The symptoms of the flu include a high temperature.']"
      ]
     },
     "execution_count": 14,
     "metadata": {},
     "output_type": "execute_result"
    }
   ],
   "source": [
    "text = \"Symptoms of the flu include fever and nasal congestion.\"\n",
    "get_response(text, 1,3)"
   ]
  },
  {
   "cell_type": "code",
   "execution_count": 15,
   "id": "98832a9c",
   "metadata": {},
   "outputs": [
    {
     "data": {
      "text/plain": [
       "['She was advised by the doctor to take a break due to her high temperature.']"
      ]
     },
     "execution_count": 15,
     "metadata": {},
     "output_type": "execute_result"
    }
   ],
   "source": [
    "text = \"She went to the doctor and doctor has advised her to take rest for thre days due to high fever.\"\n",
    "get_response(text, 1,3)"
   ]
  },
  {
   "cell_type": "code",
   "execution_count": null,
   "id": "15af5451",
   "metadata": {},
   "outputs": [],
   "source": [
    "# paragrapgh of text\n",
    "context = \"Although paraphrases likely abounded in oral traditions, paraphrasing as a specific educational exercise dates back to at least Roman times, when the author Quintilian recommended it for students to develop dexterity in language. In the Middle Ages, this tradition continued, with authors such as Geoffrey of Vinsauf developing schoolroom exercises that included both rhetorical manipulations and paraphrasing as a way of generating poems and speeches. Paraphrasing seems to have dropped off as a specific exercise that students learn, a drop off that largely coincides with the removal of Classical texts from the core of Western education. There is, however, renewed interest in the study of paraphrases, given concerns around plagiarism and original authorship.\"\n",
    "print(context)"
   ]
  },
  {
   "cell_type": "code",
   "execution_count": null,
   "id": "0309552f",
   "metadata": {},
   "outputs": [],
   "source": [
    "# Takes the input paragrapgh and splitts it into a list of sentence\n",
    "from sentence_splitter import SentenceSplitter, split_text_into_sentences\n",
    "splitter = SentenceSplitter(language='en')\n",
    "sentence_list = splitter.split(context)\n",
    "sentence_list"
   ]
  },
  {
   "cell_type": "code",
   "execution_count": null,
   "id": "384ddd57",
   "metadata": {},
   "outputs": [],
   "source": [
    "# do a for loop to iterate through the list of sentence and paraphrase each sentence in the iterartion\n",
    "paraphrase = []\n",
    "\n",
    "for i in sentence_list:\n",
    "  a= get_response(i,1,2)\n",
    "  paraphrase.append(a)\n"
   ]
  },
  {
   "cell_type": "code",
   "execution_count": null,
   "id": "28c4958f",
   "metadata": {},
   "outputs": [],
   "source": [
    "#this is the paraphrase text\n",
    "paraphrase"
   ]
  },
  {
   "cell_type": "code",
   "execution_count": null,
   "id": "b8c7f80c",
   "metadata": {},
   "outputs": [],
   "source": [
    "paraphrase2 = [' '.join(x) for x in paraphrase]\n",
    "paraphrase2"
   ]
  },
  {
   "cell_type": "code",
   "execution_count": null,
   "id": "f17e6fe9",
   "metadata": {},
   "outputs": [],
   "source": [
    "paraphrase3 = [''.join(x) for x in paraphrase2]\n",
    "paraphrase_text = (str(paraphrase3).strip('[]').strip(\"'\"))\n",
    "paraphrase_text"
   ]
  },
  {
   "cell_type": "code",
   "execution_count": null,
   "id": "c54de786",
   "metadata": {},
   "outputs": [],
   "source": [
    "# comparison of original(context variable) and the paraphrased version (paraphrased3)\n",
    "print(context)\n",
    "print(paraphrase_text.strip(\"'\")) "
   ]
  },
  {
   "cell_type": "code",
   "execution_count": null,
   "id": "63e47e08",
   "metadata": {},
   "outputs": [],
   "source": []
  }
 ],
 "metadata": {
  "kernelspec": {
   "display_name": "Python 3 (ipykernel)",
   "language": "python",
   "name": "python3"
  },
  "language_info": {
   "codemirror_mode": {
    "name": "ipython",
    "version": 3
   },
   "file_extension": ".py",
   "mimetype": "text/x-python",
   "name": "python",
   "nbconvert_exporter": "python",
   "pygments_lexer": "ipython3",
   "version": "3.10.6"
  }
 },
 "nbformat": 4,
 "nbformat_minor": 5
}
