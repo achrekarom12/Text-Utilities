{
 "cells": [
  {
   "cell_type": "markdown",
   "metadata": {},
   "source": [
    "# Mini Project 2A"
   ]
  },
  {
   "cell_type": "markdown",
   "metadata": {},
   "source": [
    "<b>Project Title: </b>Text Utilities <br>\n",
    "<b>Domain: </b>Natural Language Processing"
   ]
  },
  {
   "cell_type": "markdown",
   "metadata": {},
   "source": [
    "<b>Team Members:</b>\n",
    "1. Mitali Rawat (Roll No. 21)\n",
    "2. Radha Vishwakarma (Roll No. 46)\n",
    "3. Om Achrekar (Roll No. 54)"
   ]
  },
  {
   "cell_type": "markdown",
   "metadata": {},
   "source": [
    "<b>Problem Statement</b>: To create a web application that will help user to summerize, paraphrase the given text, and will also be able to correct the grammatical mistakes."
   ]
  },
  {
   "cell_type": "markdown",
   "metadata": {},
   "source": [
    "## Summerisation using Spacy:"
   ]
  },
  {
   "cell_type": "markdown",
   "metadata": {},
   "source": [
    "#### Done By: Mitali Rawat"
   ]
  },
  {
   "cell_type": "code",
   "execution_count": null,
   "metadata": {
    "colab": {
     "base_uri": "https://localhost:8080/"
    },
    "id": "K2naRdGL719x",
    "outputId": "5a3fc2d6-f5e3-4606-9069-1ecc09e500a7"
   },
   "outputs": [],
   "source": [
    "!pip install -U spacy\n",
    "!python -m spacy download en_core_web_sm"
   ]
  },
  {
   "cell_type": "code",
   "execution_count": 23,
   "metadata": {
    "id": "WQ7DhUbe9bOS"
   },
   "outputs": [],
   "source": [
    "text = \"\"\" Johannes Gutenberg (1398 – 1468) was a German goldsmith and publisher who introduced printing to Europe. His introduction of mechanical movable type printing to Europe started the Printing Revolution and is widely regarded as the most important event of the modern period. It played a key role in the scientific revolution and laid the basis for the modern knowledge-based economy and the spread of learning to the masses.\n",
    "\n",
    "Gutenberg many contributions to printing are: the invention of a process for mass-producing movable type, the use of oil-based ink for printing books, adjustable molds, and the use of a wooden printing press. His truly epochal invention was the combination of these elements into a practical system that allowed the mass production of printed books and was economically viable for printers and readers alike.\n",
    "\n",
    "In Renaissance Europe, the arrival of mechanical movable type printing introduced the era of mass communication which permanently altered the structure of society. The relatively unrestricted circulation of information—including revolutionary ideas—transcended borders, and captured the masses in the Reformation. The sharp increase in literacy broke the monopoly of the literate elite on education and learning and bolstered the emerging middle class.\"\"\""
   ]
  },
  {
   "cell_type": "code",
   "execution_count": 24,
   "metadata": {
    "id": "XYkytTmd8XGP"
   },
   "outputs": [],
   "source": [
    "import spacy\n",
    "from spacy.lang.en.stop_words import STOP_WORDS\n",
    "from string import punctuation"
   ]
  },
  {
   "cell_type": "code",
   "execution_count": null,
   "metadata": {
    "colab": {
     "base_uri": "https://localhost:8080/"
    },
    "id": "dj5rI4N9-Bff",
    "outputId": "88c672e3-5402-4386-fe45-47373c6d0ab8"
   },
   "outputs": [],
   "source": [
    "!pip install nlp"
   ]
  },
  {
   "cell_type": "code",
   "execution_count": 25,
   "metadata": {
    "id": "WnFi8uyr8rLH"
   },
   "outputs": [],
   "source": [
    "stopwords = list(STOP_WORDS)"
   ]
  },
  {
   "cell_type": "code",
   "execution_count": 26,
   "metadata": {
    "id": "3JW2gRVn8-_O"
   },
   "outputs": [],
   "source": [
    "nlp = spacy.load('en_core_web_sm')"
   ]
  },
  {
   "cell_type": "code",
   "execution_count": 27,
   "metadata": {
    "id": "GQ8ArZ1t9WgT"
   },
   "outputs": [],
   "source": [
    "doc = nlp(text)"
   ]
  },
  {
   "cell_type": "code",
   "execution_count": 28,
   "metadata": {
    "colab": {
     "base_uri": "https://localhost:8080/"
    },
    "id": "64hRAZ26-VJe",
    "outputId": "9d419033-ffa3-4288-b17b-fa178c7aaa09"
   },
   "outputs": [
    {
     "name": "stdout",
     "output_type": "stream",
     "text": [
      "[' ', 'Johannes', 'Gutenberg', '(', '1398', '–', '1468', ')', 'was', 'a', 'German', 'goldsmith', 'and', 'publisher', 'who', 'introduced', 'printing', 'to', 'Europe', '.', 'His', 'introduction', 'of', 'mechanical', 'movable', 'type', 'printing', 'to', 'Europe', 'started', 'the', 'Printing', 'Revolution', 'and', 'is', 'widely', 'regarded', 'as', 'the', 'most', 'important', 'event', 'of', 'the', 'modern', 'period', '.', 'It', 'played', 'a', 'key', 'role', 'in', 'the', 'scientific', 'revolution', 'and', 'laid', 'the', 'basis', 'for', 'the', 'modern', 'knowledge', '-', 'based', 'economy', 'and', 'the', 'spread', 'of', 'learning', 'to', 'the', 'masses', '.', '\\n\\n', 'Gutenberg', 'many', 'contributions', 'to', 'printing', 'are', ':', 'the', 'invention', 'of', 'a', 'process', 'for', 'mass', '-', 'producing', 'movable', 'type', ',', 'the', 'use', 'of', 'oil', '-', 'based', 'ink', 'for', 'printing', 'books', ',', 'adjustable', 'molds', ',', 'and', 'the', 'use', 'of', 'a', 'wooden', 'printing', 'press', '.', 'His', 'truly', 'epochal', 'invention', 'was', 'the', 'combination', 'of', 'these', 'elements', 'into', 'a', 'practical', 'system', 'that', 'allowed', 'the', 'mass', 'production', 'of', 'printed', 'books', 'and', 'was', 'economically', 'viable', 'for', 'printers', 'and', 'readers', 'alike', '.', '\\n\\n', 'In', 'Renaissance', 'Europe', ',', 'the', 'arrival', 'of', 'mechanical', 'movable', 'type', 'printing', 'introduced', 'the', 'era', 'of', 'mass', 'communication', 'which', 'permanently', 'altered', 'the', 'structure', 'of', 'society', '.', 'The', 'relatively', 'unrestricted', 'circulation', 'of', 'information', '—', 'including', 'revolutionary', 'ideas', '—', 'transcended', 'borders', ',', 'and', 'captured', 'the', 'masses', 'in', 'the', 'Reformation', '.', 'The', 'sharp', 'increase', 'in', 'literacy', 'broke', 'the', 'monopoly', 'of', 'the', 'literate', 'elite', 'on', 'education', 'and', 'learning', 'and', 'bolstered', 'the', 'emerging', 'middle', 'class', '.']\n"
     ]
    }
   ],
   "source": [
    "tokens = [token.text for token in doc]\n",
    "print(tokens)"
   ]
  },
  {
   "cell_type": "code",
   "execution_count": 29,
   "metadata": {
    "colab": {
     "base_uri": "https://localhost:8080/",
     "height": 36
    },
    "id": "PsVOmEXZ-oQR",
    "outputId": "ce6b1e8d-0199-49bb-c617-df69cf9d9c05"
   },
   "outputs": [
    {
     "data": {
      "text/plain": [
       "'!\"#$%&\\'()*+,-./:;<=>?@[\\\\]^_`{|}~\\n'"
      ]
     },
     "execution_count": 29,
     "metadata": {},
     "output_type": "execute_result"
    }
   ],
   "source": [
    "punctuation = punctuation + '\\n'\n",
    "punctuation"
   ]
  },
  {
   "cell_type": "code",
   "execution_count": 30,
   "metadata": {},
   "outputs": [
    {
     "name": "stdout",
     "output_type": "stream",
     "text": [
      "!\"#$%&'()*+,-./:;<=>?@[\\]^_`{|}~\n",
      "\n"
     ]
    }
   ],
   "source": [
    "print(punctuation)"
   ]
  },
  {
   "cell_type": "code",
   "execution_count": 31,
   "metadata": {
    "id": "fO7Pq9Ku-tUG"
   },
   "outputs": [],
   "source": [
    "word_frequencies = {}\n",
    "for word in doc:\n",
    "    if word.text.lower() not in stopwords:\n",
    "        if word.text.lower() not in punctuation:\n",
    "            if word.text not in word_frequencies.keys():\n",
    "                word_frequencies[word.text] = 1\n",
    "            else:\n",
    "                word_frequencies[word.text] += 1\n",
    "        "
   ]
  },
  {
   "cell_type": "code",
   "execution_count": 32,
   "metadata": {
    "colab": {
     "base_uri": "https://localhost:8080/"
    },
    "id": "hXcZVl5a_tZv",
    "outputId": "242d96bf-6b41-42d6-abea-381da961af46"
   },
   "outputs": [
    {
     "name": "stdout",
     "output_type": "stream",
     "text": [
      "{' ': 1, 'Johannes': 1, 'Gutenberg': 2, '1398': 1, '–': 1, '1468': 1, 'German': 1, 'goldsmith': 1, 'publisher': 1, 'introduced': 2, 'printing': 6, 'Europe': 3, 'introduction': 1, 'mechanical': 2, 'movable': 3, 'type': 3, 'started': 1, 'Printing': 1, 'Revolution': 1, 'widely': 1, 'regarded': 1, 'important': 1, 'event': 1, 'modern': 2, 'period': 1, 'played': 1, 'key': 1, 'role': 1, 'scientific': 1, 'revolution': 1, 'laid': 1, 'basis': 1, 'knowledge': 1, 'based': 2, 'economy': 1, 'spread': 1, 'learning': 2, 'masses': 2, '\\n\\n': 2, 'contributions': 1, 'invention': 2, 'process': 1, 'mass': 3, 'producing': 1, 'use': 2, 'oil': 1, 'ink': 1, 'books': 2, 'adjustable': 1, 'molds': 1, 'wooden': 1, 'press': 1, 'truly': 1, 'epochal': 1, 'combination': 1, 'elements': 1, 'practical': 1, 'system': 1, 'allowed': 1, 'production': 1, 'printed': 1, 'economically': 1, 'viable': 1, 'printers': 1, 'readers': 1, 'alike': 1, 'Renaissance': 1, 'arrival': 1, 'era': 1, 'communication': 1, 'permanently': 1, 'altered': 1, 'structure': 1, 'society': 1, 'relatively': 1, 'unrestricted': 1, 'circulation': 1, 'information': 1, '—': 2, 'including': 1, 'revolutionary': 1, 'ideas': 1, 'transcended': 1, 'borders': 1, 'captured': 1, 'Reformation': 1, 'sharp': 1, 'increase': 1, 'literacy': 1, 'broke': 1, 'monopoly': 1, 'literate': 1, 'elite': 1, 'education': 1, 'bolstered': 1, 'emerging': 1, 'middle': 1, 'class': 1}\n"
     ]
    }
   ],
   "source": [
    "print(word_frequencies)"
   ]
  },
  {
   "cell_type": "code",
   "execution_count": 33,
   "metadata": {
    "id": "KlGz63Gs_6ET"
   },
   "outputs": [],
   "source": [
    "max_frequency = max(word_frequencies.values())"
   ]
  },
  {
   "cell_type": "code",
   "execution_count": 34,
   "metadata": {
    "colab": {
     "base_uri": "https://localhost:8080/"
    },
    "id": "71eDgSDUAIwT",
    "outputId": "dc4da653-78de-4bea-8a4f-318f8152ab6b"
   },
   "outputs": [
    {
     "data": {
      "text/plain": [
       "6"
      ]
     },
     "execution_count": 34,
     "metadata": {},
     "output_type": "execute_result"
    }
   ],
   "source": [
    "max_frequency"
   ]
  },
  {
   "cell_type": "code",
   "execution_count": 35,
   "metadata": {
    "id": "xAKhzCYbAS8Q"
   },
   "outputs": [],
   "source": [
    "for word in word_frequencies.keys():\n",
    "    word_frequencies[word] = word_frequencies[word]/max_frequency"
   ]
  },
  {
   "cell_type": "code",
   "execution_count": 36,
   "metadata": {
    "colab": {
     "base_uri": "https://localhost:8080/"
    },
    "id": "XVVyNJCOAhrY",
    "outputId": "e0353b66-836d-4e50-ae0b-fae8e9f34d94"
   },
   "outputs": [
    {
     "name": "stdout",
     "output_type": "stream",
     "text": [
      "{' ': 0.16666666666666666, 'Johannes': 0.16666666666666666, 'Gutenberg': 0.3333333333333333, '1398': 0.16666666666666666, '–': 0.16666666666666666, '1468': 0.16666666666666666, 'German': 0.16666666666666666, 'goldsmith': 0.16666666666666666, 'publisher': 0.16666666666666666, 'introduced': 0.3333333333333333, 'printing': 1.0, 'Europe': 0.5, 'introduction': 0.16666666666666666, 'mechanical': 0.3333333333333333, 'movable': 0.5, 'type': 0.5, 'started': 0.16666666666666666, 'Printing': 0.16666666666666666, 'Revolution': 0.16666666666666666, 'widely': 0.16666666666666666, 'regarded': 0.16666666666666666, 'important': 0.16666666666666666, 'event': 0.16666666666666666, 'modern': 0.3333333333333333, 'period': 0.16666666666666666, 'played': 0.16666666666666666, 'key': 0.16666666666666666, 'role': 0.16666666666666666, 'scientific': 0.16666666666666666, 'revolution': 0.16666666666666666, 'laid': 0.16666666666666666, 'basis': 0.16666666666666666, 'knowledge': 0.16666666666666666, 'based': 0.3333333333333333, 'economy': 0.16666666666666666, 'spread': 0.16666666666666666, 'learning': 0.3333333333333333, 'masses': 0.3333333333333333, '\\n\\n': 0.3333333333333333, 'contributions': 0.16666666666666666, 'invention': 0.3333333333333333, 'process': 0.16666666666666666, 'mass': 0.5, 'producing': 0.16666666666666666, 'use': 0.3333333333333333, 'oil': 0.16666666666666666, 'ink': 0.16666666666666666, 'books': 0.3333333333333333, 'adjustable': 0.16666666666666666, 'molds': 0.16666666666666666, 'wooden': 0.16666666666666666, 'press': 0.16666666666666666, 'truly': 0.16666666666666666, 'epochal': 0.16666666666666666, 'combination': 0.16666666666666666, 'elements': 0.16666666666666666, 'practical': 0.16666666666666666, 'system': 0.16666666666666666, 'allowed': 0.16666666666666666, 'production': 0.16666666666666666, 'printed': 0.16666666666666666, 'economically': 0.16666666666666666, 'viable': 0.16666666666666666, 'printers': 0.16666666666666666, 'readers': 0.16666666666666666, 'alike': 0.16666666666666666, 'Renaissance': 0.16666666666666666, 'arrival': 0.16666666666666666, 'era': 0.16666666666666666, 'communication': 0.16666666666666666, 'permanently': 0.16666666666666666, 'altered': 0.16666666666666666, 'structure': 0.16666666666666666, 'society': 0.16666666666666666, 'relatively': 0.16666666666666666, 'unrestricted': 0.16666666666666666, 'circulation': 0.16666666666666666, 'information': 0.16666666666666666, '—': 0.3333333333333333, 'including': 0.16666666666666666, 'revolutionary': 0.16666666666666666, 'ideas': 0.16666666666666666, 'transcended': 0.16666666666666666, 'borders': 0.16666666666666666, 'captured': 0.16666666666666666, 'Reformation': 0.16666666666666666, 'sharp': 0.16666666666666666, 'increase': 0.16666666666666666, 'literacy': 0.16666666666666666, 'broke': 0.16666666666666666, 'monopoly': 0.16666666666666666, 'literate': 0.16666666666666666, 'elite': 0.16666666666666666, 'education': 0.16666666666666666, 'bolstered': 0.16666666666666666, 'emerging': 0.16666666666666666, 'middle': 0.16666666666666666, 'class': 0.16666666666666666}\n"
     ]
    }
   ],
   "source": [
    "print( word_frequencies)"
   ]
  },
  {
   "cell_type": "code",
   "execution_count": 37,
   "metadata": {
    "colab": {
     "base_uri": "https://localhost:8080/"
    },
    "id": "9Lsqea7CAmfm",
    "outputId": "55f46564-9131-47af-9f4f-d4b6a637a0bd"
   },
   "outputs": [
    {
     "name": "stdout",
     "output_type": "stream",
     "text": [
      "[ Johannes Gutenberg (1398 – 1468) was a German goldsmith and publisher who introduced printing to Europe., His introduction of mechanical movable type printing to Europe started the Printing Revolution and is widely regarded as the most important event of the modern period., It played a key role in the scientific revolution and laid the basis for the modern knowledge-based economy and the spread of learning to the masses.\n",
      "\n",
      ", Gutenberg many contributions to printing are: the invention of a process for mass-producing movable type, the use of oil-based ink for printing books, adjustable molds, and the use of a wooden printing press., His truly epochal invention was the combination of these elements into a practical system that allowed the mass production of printed books and was economically viable for printers and readers alike.\n",
      "\n",
      ", In Renaissance Europe, the arrival of mechanical movable type printing introduced the era of mass communication which permanently altered the structure of society., The relatively unrestricted circulation of information—including revolutionary ideas—transcended borders, and captured the masses in the Reformation., The sharp increase in literacy broke the monopoly of the literate elite on education and learning and bolstered the emerging middle class.]\n"
     ]
    }
   ],
   "source": [
    "sentence_tokens = [sent for sent in doc.sents]\n",
    "print(sentence_tokens)"
   ]
  },
  {
   "cell_type": "code",
   "execution_count": 38,
   "metadata": {
    "id": "lyBli9j7A54O"
   },
   "outputs": [],
   "source": [
    "sentence_scores = {}\n",
    "for sent in sentence_tokens:\n",
    "    for word in sent:\n",
    "        if word.text.lower() in word_frequencies.keys():\n",
    "            if sent not in sentence_scores.keys():\n",
    "                sentence_scores[sent] = word_frequencies[word.text.lower()]\n",
    "            else:\n",
    "                sentence_scores[sent] += word_frequencies[word.text.lower()]"
   ]
  },
  {
   "cell_type": "code",
   "execution_count": 39,
   "metadata": {
    "colab": {
     "base_uri": "https://localhost:8080/"
    },
    "id": "m3sS1cB4Bupy",
    "outputId": "27482da7-0bbb-4073-f2f7-167415d70a35"
   },
   "outputs": [
    {
     "data": {
      "text/plain": [
       "{ Johannes Gutenberg (1398 – 1468) was a German goldsmith and publisher who introduced printing to Europe.: 2.333333333333333,\n",
       " His introduction of mechanical movable type printing to Europe started the Printing Revolution and is widely regarded as the most important event of the modern period.: 5.0,\n",
       " It played a key role in the scientific revolution and laid the basis for the modern knowledge-based economy and the spread of learning to the masses.\n",
       " : 3.3333333333333335,\n",
       " Gutenberg many contributions to printing are: the invention of a process for mass-producing movable type, the use of oil-based ink for printing books, adjustable molds, and the use of a wooden printing press.: 7.666666666666668,\n",
       " His truly epochal invention was the combination of these elements into a practical system that allowed the mass production of printed books and was economically viable for printers and readers alike.\n",
       " : 3.8333333333333326,\n",
       " In Renaissance Europe, the arrival of mechanical movable type printing introduced the era of mass communication which permanently altered the structure of society.: 4.333333333333333,\n",
       " The relatively unrestricted circulation of information—including revolutionary ideas—transcended borders, and captured the masses in the Reformation.: 2.6666666666666665,\n",
       " The sharp increase in literacy broke the monopoly of the literate elite on education and learning and bolstered the emerging middle class.: 2.333333333333333}"
      ]
     },
     "execution_count": 39,
     "metadata": {},
     "output_type": "execute_result"
    }
   ],
   "source": [
    "sentence_scores"
   ]
  },
  {
   "cell_type": "code",
   "execution_count": 40,
   "metadata": {
    "id": "bOIQkj_tBzdl"
   },
   "outputs": [],
   "source": [
    "from heapq import nlargest"
   ]
  },
  {
   "cell_type": "code",
   "execution_count": 41,
   "metadata": {
    "colab": {
     "base_uri": "https://localhost:8080/"
    },
    "id": "OFPZDPk0B5qt",
    "outputId": "2745703c-35a7-46d0-d018-23e9dbb7d4bb"
   },
   "outputs": [
    {
     "data": {
      "text/plain": [
       "2"
      ]
     },
     "execution_count": 41,
     "metadata": {},
     "output_type": "execute_result"
    }
   ],
   "source": [
    "select_length = int(len(sentence_tokens)*0.3)\n",
    "select_length"
   ]
  },
  {
   "cell_type": "code",
   "execution_count": 42,
   "metadata": {
    "id": "mVGvRen4CNUw"
   },
   "outputs": [],
   "source": [
    "summary = nlargest(select_length, sentence_scores, key=sentence_scores.get)"
   ]
  },
  {
   "cell_type": "code",
   "execution_count": 43,
   "metadata": {
    "colab": {
     "base_uri": "https://localhost:8080/"
    },
    "id": "s524RYfzChgl",
    "outputId": "3541a518-44f0-4651-aaed-2e2a9033ede3"
   },
   "outputs": [
    {
     "data": {
      "text/plain": [
       "[Gutenberg many contributions to printing are: the invention of a process for mass-producing movable type, the use of oil-based ink for printing books, adjustable molds, and the use of a wooden printing press.,\n",
       " His introduction of mechanical movable type printing to Europe started the Printing Revolution and is widely regarded as the most important event of the modern period.]"
      ]
     },
     "execution_count": 43,
     "metadata": {},
     "output_type": "execute_result"
    }
   ],
   "source": [
    "summary"
   ]
  },
  {
   "cell_type": "code",
   "execution_count": 44,
   "metadata": {
    "id": "XeCoIfOoCmyc"
   },
   "outputs": [],
   "source": [
    "final_summary = [word.text for word in summary]"
   ]
  },
  {
   "cell_type": "code",
   "execution_count": 45,
   "metadata": {
    "id": "zAJP7c_mC1NI"
   },
   "outputs": [],
   "source": [
    "summary = ' '.join(final_summary)"
   ]
  },
  {
   "cell_type": "code",
   "execution_count": 46,
   "metadata": {
    "colab": {
     "base_uri": "https://localhost:8080/"
    },
    "id": "X-3jqt-KDUPD",
    "outputId": "d4f51086-a040-4bfa-8618-93735bc36aee"
   },
   "outputs": [
    {
     "name": "stdout",
     "output_type": "stream",
     "text": [
      " Johannes Gutenberg (1398 – 1468) was a German goldsmith and publisher who introduced printing to Europe. His introduction of mechanical movable type printing to Europe started the Printing Revolution and is widely regarded as the most important event of the modern period. It played a key role in the scientific revolution and laid the basis for the modern knowledge-based economy and the spread of learning to the masses.\n",
      "\n",
      "Gutenberg many contributions to printing are: the invention of a process for mass-producing movable type, the use of oil-based ink for printing books, adjustable molds, and the use of a wooden printing press. His truly epochal invention was the combination of these elements into a practical system that allowed the mass production of printed books and was economically viable for printers and readers alike.\n",
      "\n",
      "In Renaissance Europe, the arrival of mechanical movable type printing introduced the era of mass communication which permanently altered the structure of society. The relatively unrestricted circulation of information—including revolutionary ideas—transcended borders, and captured the masses in the Reformation. The sharp increase in literacy broke the monopoly of the literate elite on education and learning and bolstered the emerging middle class.\n"
     ]
    }
   ],
   "source": [
    "print(text)"
   ]
  },
  {
   "cell_type": "code",
   "execution_count": 47,
   "metadata": {
    "colab": {
     "base_uri": "https://localhost:8080/"
    },
    "id": "y7sHsJzwC_Q9",
    "outputId": "e2c9dc0a-cf6c-4068-b827-24ef4a8cc90d"
   },
   "outputs": [
    {
     "name": "stdout",
     "output_type": "stream",
     "text": [
      "Gutenberg many contributions to printing are: the invention of a process for mass-producing movable type, the use of oil-based ink for printing books, adjustable molds, and the use of a wooden printing press. His introduction of mechanical movable type printing to Europe started the Printing Revolution and is widely regarded as the most important event of the modern period.\n"
     ]
    }
   ],
   "source": [
    "print(summary)"
   ]
  },
  {
   "cell_type": "code",
   "execution_count": 48,
   "metadata": {},
   "outputs": [
    {
     "name": "stdout",
     "output_type": "stream",
     "text": [
      "['Gutenberg many contributions to printing are: the invention of a process for mass-producing movable type, the use of oil-based ink for printing books, adjustable molds, and the use of a wooden printing press.', 'His introduction of mechanical movable type printing to Europe started the Printing Revolution and is widely regarded as the most important event of the modern period.']\n"
     ]
    }
   ],
   "source": [
    "print(final_summary)"
   ]
  },
  {
   "cell_type": "code",
   "execution_count": 49,
   "metadata": {
    "colab": {
     "base_uri": "https://localhost:8080/"
    },
    "id": "732ps6NzDZvt",
    "outputId": "54a13d72-96b8-489f-eecb-4230857c13ce"
   },
   "outputs": [
    {
     "data": {
      "text/plain": [
       "1287"
      ]
     },
     "execution_count": 49,
     "metadata": {},
     "output_type": "execute_result"
    }
   ],
   "source": [
    "len(text)"
   ]
  },
  {
   "cell_type": "code",
   "execution_count": 50,
   "metadata": {
    "colab": {
     "base_uri": "https://localhost:8080/"
    },
    "id": "4mMzS51SDZ8q",
    "outputId": "2593e036-e569-4a8e-b49b-16fc7f82652f"
   },
   "outputs": [
    {
     "data": {
      "text/plain": [
       "376"
      ]
     },
     "execution_count": 50,
     "metadata": {},
     "output_type": "execute_result"
    }
   ],
   "source": [
    "len(summary)"
   ]
  },
  {
   "cell_type": "code",
   "execution_count": 51,
   "metadata": {},
   "outputs": [],
   "source": [
    "def summerize(text):\n",
    "    doc = nlp(text)\n",
    "    tokens = [token.text for token in doc]\n",
    "#     punctuation = punctuation + '\\n'\n",
    "    word_frequencies = {}\n",
    "    for word in doc:\n",
    "        if word.text.lower() not in stopwords:\n",
    "            if word.text.lower() not in punctuation:\n",
    "                if word.text not in word_frequencies.keys():\n",
    "                     word_frequencies[word.text] = 1\n",
    "                else:\n",
    "                    word_frequencies[word.text] += 1\n",
    "    \n",
    "    for word in word_frequencies.keys():\n",
    "        word_frequencies[word] = word_frequencies[word]/max_frequency\n",
    "    sentence_tokens = [sent for sent in doc.sents]\n",
    "    sentence_scores = {}\n",
    "    for sent in sentence_tokens:\n",
    "        for word in sent:\n",
    "            if word.text.lower() in word_frequencies.keys():\n",
    "                if sent not in sentence_scores.keys():\n",
    "                    sentence_scores[sent] = word_frequencies[word.text.lower()]\n",
    "                else:\n",
    "                    sentence_scores[sent] += word_frequencies[word.text.lower()]\n",
    "    \n",
    "    select_length = int(len(sentence_tokens)*0.3)\n",
    "    summary = nlargest(select_length, sentence_scores, key=sentence_scores.get)\n",
    "    print(summary)\n",
    "                    "
   ]
  },
  {
   "cell_type": "code",
   "execution_count": 52,
   "metadata": {
    "scrolled": true
   },
   "outputs": [
    {
     "name": "stdout",
     "output_type": "stream",
     "text": [
      "[Gutenberg many contributions to printing are: the invention of a process for mass-producing movable type, the use of oil-based ink for printing books, adjustable molds, and the use of a wooden printing press., His introduction of mechanical movable type printing to Europe started the Printing Revolution and is widely regarded as the most important event of the modern period.]\n"
     ]
    }
   ],
   "source": [
    "summerize(text)"
   ]
  }
 ],
 "metadata": {
  "colab": {
   "provenance": []
  },
  "kernelspec": {
   "display_name": "Python 3 (ipykernel)",
   "language": "python",
   "name": "python3"
  },
  "language_info": {
   "codemirror_mode": {
    "name": "ipython",
    "version": 3
   },
   "file_extension": ".py",
   "mimetype": "text/x-python",
   "name": "python",
   "nbconvert_exporter": "python",
   "pygments_lexer": "ipython3",
   "version": "3.10.6"
  }
 },
 "nbformat": 4,
 "nbformat_minor": 1
}
